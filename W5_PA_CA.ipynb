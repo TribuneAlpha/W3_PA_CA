{
  "nbformat": 4,
  "nbformat_minor": 0,
  "metadata": {
    "colab": {
      "provenance": [],
      "authorship_tag": "ABX9TyP4QGiN5osNJJwfWVme1bHl",
      "include_colab_link": true
    },
    "kernelspec": {
      "name": "python3",
      "display_name": "Python 3"
    },
    "language_info": {
      "name": "python"
    }
  },
  "cells": [
    {
      "cell_type": "markdown",
      "metadata": {
        "id": "view-in-github",
        "colab_type": "text"
      },
      "source": [
        "<a href=\"https://colab.research.google.com/github/TribuneAlpha/W3_PA_CA/blob/main/W5_PA_CA.ipynb\" target=\"_parent\"><img src=\"https://colab.research.google.com/assets/colab-badge.svg\" alt=\"Open In Colab\"/></a>"
      ]
    },
    {
      "cell_type": "code",
      "execution_count": 7,
      "metadata": {
        "colab": {
          "base_uri": "https://localhost:8080/"
        },
        "id": "ZDE1kg7Fghpo",
        "outputId": "71a750be-3cd6-4c6b-efe4-bfa0e94d5b9e"
      },
      "outputs": [
        {
          "output_type": "stream",
          "name": "stdout",
          "text": [
            "Current array state: [1, 3, 5, 2]\n",
            "Current array state: [1, 5, 3, 2]\n",
            "Current array state: [5, 3, 1, 2]\n",
            "Current array state: [2, 3, 5, 1]\n",
            "Current array state: [1, 2, 5, 3]\n",
            "Current array state: [1, 2, 3, 5]\n",
            "==========\n",
            "Sorted array:\n",
            "1 2 3 5\n",
            "==========\n"
          ]
        }
      ],
      "source": [
        "\n",
        "import random\n",
        "# Sorts array a[0..n-1] using Bogo sort\n",
        "def bogoSort(a):\n",
        "  n = len(a)\n",
        "  while not is_sorted(a):\n",
        "    shuffle(a)\n",
        "    print(\"Current array state:\", a)\n",
        "# To check if array is sorted or not\n",
        "def is_sorted(a):\n",
        "  n = len(a)\n",
        "  for i in range(0, n-1):\n",
        "    if a[i]> a[i+1]:\n",
        "      return False\n",
        "  return True\n",
        "# To generate permutation of the array\n",
        "def shuffle(a):\n",
        "  n = len(a)\n",
        "  for i in range(n):\n",
        "    r = random.randint(0, n-1)\n",
        "    a[i], a[r] = a[r], a[i]\n",
        "# Driver code to test above\n",
        "a = [5, 1, 3, 2]\n",
        "bogoSort(a)\n",
        "print(\"==========\")\n",
        "print(\"Sorted array:\")\n",
        "print(\" \".join(str(x) for x in a))\n",
        "print(\"==========\")"
      ]
    },
    {
      "cell_type": "code",
      "source": [
        "\n",
        "def bubbleSort(arr):\n",
        "  n = len(arr)\n",
        "  #Traverse through all array elements\n",
        "  for i in range(n):\n",
        "    # Last i elements are already in place\n",
        "    for j in range(0, n-i-1):\n",
        "      #Traverse the array from 0 to n-i-1\n",
        "      # Swap if the element found is greater than the next element\n",
        "      if arr[j] > arr[j+1]:\n",
        "        arr[j], arr[j+1] = arr[j+1], arr[j]\n",
        "        # Print the array after each swap\n",
        "      print(\"Step:\", arr)\n",
        "    print(\"After pass\", i+1, \":\", arr)\n",
        "    print(\"\")\n",
        "  return arr\n",
        "# Driver code to test above\n",
        "arr = [12, 19, 13, 17, 14, 11, 15]\n",
        "print(\"Original array:\", arr)\n",
        "sorted_arr = bubbleSort(arr)\n",
        "print(\"Sorted array:\", sorted_arr)"
      ],
      "metadata": {
        "colab": {
          "base_uri": "https://localhost:8080/"
        },
        "id": "SdlzMAaAhReX",
        "outputId": "e14babee-903d-4a63-d23e-e8780768ac47"
      },
      "execution_count": 9,
      "outputs": [
        {
          "output_type": "stream",
          "name": "stdout",
          "text": [
            "Original array: [12, 19, 13, 17, 14, 11, 15]\n",
            "Step: [12, 19, 13, 17, 14, 11, 15]\n",
            "Step: [12, 13, 19, 17, 14, 11, 15]\n",
            "Step: [12, 13, 17, 19, 14, 11, 15]\n",
            "Step: [12, 13, 17, 14, 19, 11, 15]\n",
            "Step: [12, 13, 17, 14, 11, 19, 15]\n",
            "Step: [12, 13, 17, 14, 11, 15, 19]\n",
            "After pass 1 : [12, 13, 17, 14, 11, 15, 19]\n",
            "\n",
            "Step: [12, 13, 17, 14, 11, 15, 19]\n",
            "Step: [12, 13, 17, 14, 11, 15, 19]\n",
            "Step: [12, 13, 14, 17, 11, 15, 19]\n",
            "Step: [12, 13, 14, 11, 17, 15, 19]\n",
            "Step: [12, 13, 14, 11, 15, 17, 19]\n",
            "After pass 2 : [12, 13, 14, 11, 15, 17, 19]\n",
            "\n",
            "Step: [12, 13, 14, 11, 15, 17, 19]\n",
            "Step: [12, 13, 14, 11, 15, 17, 19]\n",
            "Step: [12, 13, 11, 14, 15, 17, 19]\n",
            "Step: [12, 13, 11, 14, 15, 17, 19]\n",
            "After pass 3 : [12, 13, 11, 14, 15, 17, 19]\n",
            "\n",
            "Step: [12, 13, 11, 14, 15, 17, 19]\n",
            "Step: [12, 11, 13, 14, 15, 17, 19]\n",
            "Step: [12, 11, 13, 14, 15, 17, 19]\n",
            "After pass 4 : [12, 11, 13, 14, 15, 17, 19]\n",
            "\n",
            "Step: [11, 12, 13, 14, 15, 17, 19]\n",
            "Step: [11, 12, 13, 14, 15, 17, 19]\n",
            "After pass 5 : [11, 12, 13, 14, 15, 17, 19]\n",
            "\n",
            "Step: [11, 12, 13, 14, 15, 17, 19]\n",
            "After pass 6 : [11, 12, 13, 14, 15, 17, 19]\n",
            "\n",
            "After pass 7 : [11, 12, 13, 14, 15, 17, 19]\n",
            "\n",
            "Sorted array: [11, 12, 13, 14, 15, 17, 19]\n"
          ]
        }
      ]
    },
    {
      "cell_type": "code",
      "source": [
        "def selectionSort(arr):\n",
        "  n = len(arr)\n",
        "  #Traverse through all array elements\n",
        "  for i in range(n):\n",
        "    # Find the minimum element in remaining unsorted array\n",
        "    min_idx = i\n",
        "    for j in range(i+1, n):\n",
        "      if arr[j] < arr[min_idx]:\n",
        "        min_idx = j\n",
        "    #Swap the found minimum element with the first element of the unsorted part\n",
        "    arr[i], arr[min_idx] = arr[min_idx], arr[i]\n",
        "    # Print the array after each iteration of selection sort\n",
        "    print(\"After iteration\", i+1, \":\", arr)\n",
        "  return arr\n",
        "\n",
        "# Driver code to test above\n",
        "arr = [12, 11, 9, 10, 13]\n",
        "print(\"Original array:\", arr)\n",
        "sorted_arr = selectionSort(arr)\n",
        "print(\"Sorted array:\", sorted_arr)"
      ],
      "metadata": {
        "colab": {
          "base_uri": "https://localhost:8080/"
        },
        "id": "Rv7ARCx-h81D",
        "outputId": "281da3b0-75ec-4986-b15b-5de5204b0a58"
      },
      "execution_count": 14,
      "outputs": [
        {
          "output_type": "stream",
          "name": "stdout",
          "text": [
            "Original array: [12, 11, 9, 10, 13]\n",
            "After iteration 1 : [9, 11, 12, 10, 13]\n",
            "After iteration 2 : [9, 10, 12, 11, 13]\n",
            "After iteration 3 : [9, 10, 11, 12, 13]\n",
            "After iteration 4 : [9, 10, 11, 12, 13]\n",
            "After iteration 5 : [9, 10, 11, 12, 13]\n",
            "Sorted array: [9, 10, 11, 12, 13]\n"
          ]
        }
      ]
    }
  ]
}
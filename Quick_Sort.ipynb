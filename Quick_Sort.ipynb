{
  "nbformat": 4,
  "nbformat_minor": 0,
  "metadata": {
    "colab": {
      "provenance": [],
      "include_colab_link": true
    },
    "kernelspec": {
      "name": "python3",
      "display_name": "Python 3"
    },
    "language_info": {
      "name": "python"
    }
  },
  "cells": [
    {
      "cell_type": "markdown",
      "metadata": {
        "id": "view-in-github",
        "colab_type": "text"
      },
      "source": [
        "<a href=\"https://colab.research.google.com/github/TribuneAlpha/W3_PA_CA/blob/main/Quick_Sort.ipynb\" target=\"_parent\"><img src=\"https://colab.research.google.com/assets/colab-badge.svg\" alt=\"Open In Colab\"/></a>"
      ]
    },
    {
      "cell_type": "code",
      "execution_count": 1,
      "metadata": {
        "colab": {
          "base_uri": "https://localhost:8080/"
        },
        "id": "OCTkJ_IKRRuR",
        "outputId": "1b2c66a6-3b73-45c8-898b-3a822c32da01"
      },
      "outputs": [
        {
          "output_type": "stream",
          "name": "stdout",
          "text": [
            "Depth 0: [9, 7, 5, 11, 12], Pivot: 12\n",
            "Depth 1: [9, 7, 5, 11], Pivot: 11\n",
            "Depth 2: [9, 7, 5], Pivot: 5\n",
            "Depth 3: [9, 7], Pivot: 7\n",
            "Sorted array: [5, 7, 9, 11, 12]\n"
          ]
        }
      ],
      "source": [
        "def quick_sort(arr, depth=0):\n",
        "    # Base case: If the array has 1 or 0 elements, it is already sorted\n",
        "    if len(arr) <= 1:\n",
        "        return arr\n",
        "    else:\n",
        "        # Choosing the last element as the pivot\n",
        "        pivot = arr[-1]\n",
        "        # Elements less than the pivot\n",
        "        left = [x for x in arr[:-1] if x <= pivot]\n",
        "        # Elements greater than the pivot\n",
        "        right = [x for x in arr[:-1] if x > pivot]\n",
        "\n",
        "        # Print the array at the current depth level of recursion\n",
        "        print(f\"Depth {depth}: {arr}, Pivot: {pivot}\")\n",
        "\n",
        "        # Recursively sort left and right, then combine\n",
        "        return quick_sort(left, depth + 1) + [pivot] + quick_sort(right, depth + 1)\n",
        "\n",
        "# Example array\n",
        "arr = [9, 7, 5, 11, 12]\n",
        "\n",
        "# Sorting the array using Quick Sort\n",
        "sorted_arr = quick_sort(arr)\n",
        "\n",
        "# Print the final result\n",
        "print(\"Sorted array:\", sorted_arr)\n"
      ]
    }
  ]
}
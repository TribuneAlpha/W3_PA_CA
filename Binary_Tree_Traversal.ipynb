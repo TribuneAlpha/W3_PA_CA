{
  "nbformat": 4,
  "nbformat_minor": 0,
  "metadata": {
    "colab": {
      "provenance": [],
      "include_colab_link": true
    },
    "kernelspec": {
      "name": "python3",
      "display_name": "Python 3"
    },
    "language_info": {
      "name": "python"
    }
  },
  "cells": [
    {
      "cell_type": "markdown",
      "metadata": {
        "id": "view-in-github",
        "colab_type": "text"
      },
      "source": [
        "<a href=\"https://colab.research.google.com/github/TribuneAlpha/W3_PA_CA/blob/main/Binary_Tree_Traversal.ipynb\" target=\"_parent\"><img src=\"https://colab.research.google.com/assets/colab-badge.svg\" alt=\"Open In Colab\"/></a>"
      ]
    },
    {
      "cell_type": "code",
      "execution_count": 1,
      "metadata": {
        "colab": {
          "base_uri": "https://localhost:8080/"
        },
        "id": "O6BR3xXt2rfu",
        "outputId": "dea8b330-1503-41f9-e343-696b2a3023d5"
      },
      "outputs": [
        {
          "output_type": "stream",
          "name": "stdout",
          "text": [
            "In-Order Traversal: \n",
            "1 2 3 4 5 6 7 \n",
            "Pre-Order Traversal: \n",
            "4 2 1 3 6 5 7 \n",
            "Post-Order Traversal: \n",
            "1 3 2 5 7 6 4 "
          ]
        }
      ],
      "source": [
        "class Node:\n",
        "    def __init__(self, key):\n",
        "        self.left = None\n",
        "        self.right = None\n",
        "        self.val = key\n",
        "\n",
        "# In-Order Traversal\n",
        "def in_order_traversal(root):\n",
        "    if root:\n",
        "        in_order_traversal(root.left)\n",
        "        print(root.val, end=\" \")\n",
        "        in_order_traversal(root.right)\n",
        "\n",
        "# Pre-Order Traversal\n",
        "def pre_order_traversal(root):\n",
        "    if root:\n",
        "        print(root.val, end=\" \")\n",
        "        pre_order_traversal(root.left)\n",
        "        pre_order_traversal(root.right)\n",
        "\n",
        "# Post-Order Traversal\n",
        "def post_order_traversal(root):\n",
        "    if root:\n",
        "        post_order_traversal(root.left)\n",
        "        post_order_traversal(root.right)\n",
        "        print(root.val, end=\" \")\n",
        "\n",
        "# Create the Binary Tree\n",
        "root = Node(4)\n",
        "root.left = Node(2)\n",
        "root.right = Node(6)\n",
        "root.left.left = Node(1)\n",
        "root.left.right = Node(3)\n",
        "root.right.left = Node(5)\n",
        "root.right.right = Node(7)\n",
        "\n",
        "# Print Traversals\n",
        "print(\"In-Order Traversal: \")\n",
        "in_order_traversal(root)\n",
        "\n",
        "print(\"\\nPre-Order Traversal: \")\n",
        "pre_order_traversal(root)\n",
        "\n",
        "print(\"\\nPost-Order Traversal: \")\n",
        "post_order_traversal(root)\n"
      ]
    }
  ]
}